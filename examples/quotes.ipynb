{
 "cells": [
  {
   "cell_type": "markdown",
   "id": "45795f41",
   "metadata": {},
   "source": [
    "# Load data\n",
    "First we load the data, I've pulled a [generic quotations dataset](https://huggingface.co/datasets/m-ric/english_historical_quotes/) from huggingface, it's downloaded to the repo for convenience."
   ]
  },
  {
   "cell_type": "code",
   "execution_count": 1,
   "id": "4edd86d9",
   "metadata": {},
   "outputs": [
    {
     "data": {
      "application/vnd.jupyter.widget-view+json": {
       "model_id": "2c0a51f84ee34d419a9c6a5a72a9e541",
       "version_major": 2,
       "version_minor": 0
      },
      "text/plain": [
       "Batches:   0%|          | 0/751 [00:00<?, ?it/s]"
      ]
     },
     "metadata": {},
     "output_type": "display_data"
    }
   ],
   "source": [
    "from semnet import SemanticNetwork, to_pandas\n",
    "import pandas as pd\n",
    "import datasets\n",
    "import sentence_transformers\n",
    "\n",
    "dataset = datasets.load_dataset(\n",
    "    \"m-ric/english_historical_quotes\", split=\"train\"\n",
    ")\n",
    "\n",
    "# Convert to pandas DataFrame\n",
    "df = pd.DataFrame(dataset)\n",
    "\n",
    "embedding_model = sentence_transformers.SentenceTransformer(\n",
    "    \"BAAI/bge-base-en-v1.5\"\n",
    ")\n",
    "labels = df[\"quote\"].tolist()\n",
    "embeddings = embedding_model.encode(labels, show_progress_bar=True)"
   ]
  },
  {
   "cell_type": "code",
   "execution_count": 2,
   "id": "786de70c",
   "metadata": {},
   "outputs": [],
   "source": [
    "# Fit the network, passing in custom data\n",
    "sem = SemanticNetwork()\n",
    "\n",
    "G = sem.fit_transform(\n",
    "    embeddings=embeddings,\n",
    "    labels=labels,\n",
    "    thresh=0.3,\n",
    "    top_k=20,\n",
    "    node_data={\n",
    "        n: {\"type\": \"quote\", \"author\": df[\"author\"].iloc[n]}\n",
    "        for n, _ in enumerate(labels)\n",
    "    },\n",
    ")"
   ]
  },
  {
   "cell_type": "code",
   "execution_count": null,
   "id": "537e8e9c",
   "metadata": {},
   "outputs": [],
   "source": [
    "# Calculate degree centrality for all nodes\n",
    "import networkx as nx\n",
    "\n",
    "# Drop disconnected nodes\n",
    "subgraphs = list(nx.connected_components(G))\n",
    "largest_subgraph = max(subgraphs, key=len)\n",
    "G = G.subgraph(largest_subgraph).copy()\n",
    "\n",
    "# Calculate degree centrality for all nodes\n",
    "centrality = nx.degree_centrality(G)\n",
    "nx.set_node_attributes(G, centrality, \"degree_centrality\")\n",
    "\n",
    "# Get louvain communities\n",
    "communities = nx.community.louvain_communities(G)\n",
    "community_dict = {}\n",
    "for i, community in enumerate(communities):\n",
    "    for node in community:\n",
    "        community_dict[node] = i\n",
    "        G.nodes[node][\"community\"] = f\"community_{i}\""
   ]
  },
  {
   "cell_type": "code",
   "execution_count": 21,
   "id": "1e37a476",
   "metadata": {},
   "outputs": [],
   "source": [
    "nodes, edges = to_pandas(G)"
   ]
  },
  {
   "cell_type": "code",
   "execution_count": 23,
   "id": "41c1fae0",
   "metadata": {},
   "outputs": [],
   "source": [
    "nodes.rename(columns={\"node_id\": \"id\"}).to_csv(\"quotes_nodes.csv\", index=False)\n",
    "edges.to_csv(\"quotes_edges.csv\", index=False)"
   ]
  },
  {
   "cell_type": "code",
   "execution_count": 11,
   "id": "0033213a",
   "metadata": {},
   "outputs": [
    {
     "data": {
      "application/vnd.microsoft.datawrangler.viewer.v0+json": {
       "columns": [
        {
         "name": "index",
         "rawType": "int64",
         "type": "integer"
        },
        {
         "name": "id",
         "rawType": "int64",
         "type": "integer"
        },
        {
         "name": "label",
         "rawType": "object",
         "type": "string"
        },
        {
         "name": "type",
         "rawType": "object",
         "type": "string"
        },
        {
         "name": "author",
         "rawType": "object",
         "type": "string"
        }
       ],
       "ref": "88cf7cfa-1a6e-48fb-9da8-de425bcb0d07",
       "rows": [
        [
         "0",
         "0",
         "Almost anyone can be an author the business is to collect money and fame from this state of being.",
         "quote",
         "A. A. Milne"
        ],
        [
         "1",
         "1",
         "If you live to be a hundred, I want to live to be a hundred minus one day so I never have to live without you.",
         "quote",
         "A. A. Milne"
        ],
        [
         "2",
         "2",
         "Golf is so popular simply because it is the best game in the world at which to be bad.",
         "quote",
         "A. A. Milne"
        ],
        [
         "3",
         "3",
         "To the uneducated, an A is just three sticks.",
         "quote",
         "A. A. Milne"
        ],
        [
         "4",
         "4",
         "Promise me you'll always remember: You're braver than you believe, and stronger than you seem, and smarter than you think.",
         "quote",
         "A. A. Milne"
        ],
        [
         "5",
         "5",
         "One of the dreams of Zionism was to be a bridge. Instead, we are creating exclusion between the East and the West instead of creating bridges we are contributing to the conflict between East and West by our stupid desire to have more.",
         "quote",
         "A. B. Yehoshua"
        ],
        [
         "6",
         "6",
         "Major sports are major parts of society. It's not anomalous to have people who love sports come from other parts of that society.",
         "quote",
         "A. Bartlett Giamatti"
        ],
        [
         "7",
         "7",
         "There are many who lust for the simple answers of doctrine or decree. They are on the left and right. They are not confined to a single part of the society. They are terrorists of the mind.",
         "quote",
         "A. Bartlett Giamatti"
        ],
        [
         "8",
         "8",
         "A liberal education is at the heart of a civil society, and at the heart of a liberal education is the act of teaching.",
         "quote",
         "A. Bartlett Giamatti"
        ],
        [
         "9",
         "9",
         "Teachers believe they have a gift for giving it drives them with the same irrepressible drive that drives others to create a work of art or a market or a building.",
         "quote",
         "A. Bartlett Giamatti"
        ],
        [
         "10",
         "10",
         "Very often a change of self is needed more than a change of scene.",
         "quote",
         "A. C. Benson"
        ],
        [
         "11",
         "11",
         "One's mind has a way of making itself up in the background, and it suddenly becomes clear what one means to do.",
         "quote",
         "A. C. Benson"
        ],
        [
         "12",
         "12",
         "I am sure it is one's duty as a teacher to try to show boys that no opinions, no tastes, no emotions are worth much unless they are one's own. I suffered acutely as a boy from the lack of being shown this.",
         "quote",
         "A. C. Benson"
        ],
        [
         "13",
         "13",
         "When you get to my age life seems little more than one long march to and from the lavatory.",
         "quote",
         "A. C. Benson"
        ],
        [
         "14",
         "14",
         "If a line of poetry strays into my memory, my skin bristles so that the razor ceases to act.",
         "quote",
         "A. E. Housman"
        ],
        [
         "15",
         "15",
         "Experience has taught me, when I am shaving of a morning, to keep watch over my thoughts, because, if a line of poetry strays into my memory, my skin bristles so that the razor ceases to act.",
         "quote",
         "A. E. Housman"
        ],
        [
         "16",
         "16",
         "Even when poetry has a meaning, as it usually has, it may be inadvisable to draw it out... Perfect understanding will sometimes almost extinguish pleasure.",
         "quote",
         "A. E. Housman"
        ],
        [
         "17",
         "17",
         "Chum was a British boy's weekly which, at the end of the year was bound into a single huge book and the following Christmas parents bought it as Christmas presents for male children.",
         "quote",
         "A. E. van Vogt"
        ],
        [
         "18",
         "18",
         "An Englishman teaching an American about food is like the blind leading the one-eyed.",
         "quote",
         "A. J. Liebling"
        ],
        [
         "19",
         "19",
         "The pattern of a newspaperman's life is like the plot of 'Black Beauty.' Sometimes he finds a kind master who gives him a dry stall and an occasional bran mash in the form of a Christmas bonus, sometimes he falls into the hands of a mean owner who drives him in spite of spavins and expects him to live on potato peelings.",
         "quote",
         "A. J. Liebling"
        ],
        [
         "20",
         "20",
         "The science of booby-trapping has taken a good deal of the fun out of following hot on the enemy's heels.",
         "quote",
         "A. J. Liebling"
        ],
        [
         "21",
         "21",
         "Freedom of the press is guaranteed only to those who own one.",
         "quote",
         "A. J. Liebling"
        ],
        [
         "22",
         "22",
         "The primary requisite for writing well about food is a good appetite. Without this, it is impossible to accumulate, within the allotted span, enough experience of eating to have anything worth setting down.",
         "quote",
         "A. J. Liebling"
        ],
        [
         "23",
         "23",
         "Southern political personalities, like sweet corn, travel badly. They lose flavor with every hundred yards away from the patch. By the time they reach New York, they are like Golden Bantam that has been trucked up from Texas - stale and unprofitable. The consumer forgets that the corn tastes different where it grows.",
         "quote",
         "A. J. Liebling"
        ],
        [
         "24",
         "24",
         "The function of the press in society is to inform, but its role in society is to make money.",
         "quote",
         "A. J. Liebling"
        ],
        [
         "25",
         "25",
         "If the first requisite for writing well about food is a good appetite, the second is to put in your apprenticeship as a feeder when you have enough money to pay the check but not enough to produce indifference of the total.",
         "quote",
         "A. J. Liebling"
        ],
        [
         "26",
         "26",
         "A city with one newspaper, or with a morning and an evening paper under one ownership, is like a man with one eye, and often the eye is glass.",
         "quote",
         "A. J. Liebling"
        ],
        [
         "27",
         "27",
         "We cannot have peace if we are only concerned with peace. War is not an accident. It is the logical outcome of a certain way of life. If we want to attack war, we have to attack that way of life.",
         "quote",
         "A. J. Muste"
        ],
        [
         "28",
         "28",
         "He was what I often think is a dangerous thing for a statesman to be - a student of history and like most of those who study history, he learned from the mistakes of the past how to make new ones.",
         "quote",
         "A. J. P. Taylor"
        ],
        [
         "29",
         "29",
         "In my opinion, most of the great men of the past were only there for the beer - the wealth, prestige and grandeur that went with the power.",
         "quote",
         "A. J. P. Taylor"
        ],
        [
         "30",
         "30",
         "There is nothing more agreeable in life than to make peace with the Establishment - and nothing more corrupting.",
         "quote",
         "A. J. P. Taylor"
        ],
        [
         "31",
         "31",
         "The critical period of matrimony is breakfast-time.",
         "quote",
         "A. P. Herbert"
        ],
        [
         "32",
         "32",
         "The concept of two people living together for 25 years without a serious dispute suggests a lack of spirit only to be admired in sheep.",
         "quote",
         "A. P. Herbert"
        ],
        [
         "33",
         "33",
         "In every truth, the beneficiaries of a system cannot be expected to destroy it.",
         "quote",
         "A. Philip Randolph"
        ],
        [
         "34",
         "34",
         "Justice is never given it is exacted and the struggle must be continuous for freedom is never a final fact, but a continuing evolving process to higher and higher levels of human, social, economic, political and religious relationship.",
         "quote",
         "A. Philip Randolph"
        ],
        [
         "35",
         "35",
         "Once every five hundred years or so, a summary statement about poetry comes along that we can't imagine ourselves living without.",
         "quote",
         "A. R. Ammons"
        ],
        [
         "36",
         "36",
         "The poet exposes himself to the risk. All that has been said about poetry, all that he has learned about poetry, is only a partial assurance.",
         "quote",
         "A. R. Ammons"
        ],
        [
         "37",
         "37",
         "Is it not careless to become too local when there are four hundred billion stars in our galaxy alone.",
         "quote",
         "A. R. Ammons"
        ],
        [
         "38",
         "38",
         "Poetry leads us to the unstructured sources of our beings, to the unknown, and returns us to our rational, structured selves refreshed.",
         "quote",
         "A. R. Ammons"
        ],
        [
         "39",
         "39",
         "Besides the actual reading in class of many poems, I would suggest you do two things: first, while teaching everything you can and keeping free of it, teach that poetry is a mode of discourse that differs from logical exposition.",
         "quote",
         "A. R. Ammons"
        ],
        [
         "40",
         "40",
         "If we ask a vague question, such as, 'What is poetry?' we expect a vague answer, such as, 'Poetry is the music of words,' or 'Poetry is the linguistic correction of disorder.'",
         "quote",
         "A. R. Ammons"
        ],
        [
         "41",
         "41",
         "I am grateful for - though I can't keep up with - the flood of articles, theses, and textbooks that mean to share insight concerning the nature of poetry.",
         "quote",
         "A. R. Ammons"
        ],
        [
         "42",
         "42",
         "Probably all the attention to poetry results in some value, though the attention is more often directed to lesser than to greater values.",
         "quote",
         "A. R. Ammons"
        ],
        [
         "43",
         "43",
         "Even if you walk exactly the same route each time - as with a sonnet - the events along the route cannot be imagined to be the same from day to day, as the poet's health, sight, his anticipations, moods, fears, thoughts cannot be the same.",
         "quote",
         "A. R. Ammons"
        ],
        [
         "44",
         "44",
         "Everything is discursive opinion instead of direct experience.",
         "quote",
         "A. R. Ammons"
        ],
        [
         "45",
         "45",
         "That's a wonderful change that's taken place, and so most poetry today is published, if not directly by the person, certainly by the enterprise of the poet himself, working with his friends.",
         "quote",
         "A. R. Ammons"
        ],
        [
         "46",
         "46",
         "A show that no one thought had a chance has just finished its fifth year: Charmed. I think it's tougher for the younger networks, so I think they have a little more patience for the sake of the show. But who knows?",
         "quote",
         "Aaron Spelling"
        ],
        [
         "47",
         "47",
         "History teaches us that men and nations behave wisely once they have exhausted all other alternatives.",
         "quote",
         "Abba Eban"
        ],
        [
         "48",
         "48",
         "It is our experience that political leaders do not always mean the opposite of what they say.",
         "quote",
         "Abba Eban"
        ],
        [
         "49",
         "49",
         "I think that this is the first war in history that on the morrow the victors sued for peace and the vanquished called for unconditional surrender.",
         "quote",
         "Abba Eban"
        ]
       ],
       "shape": {
        "columns": 4,
        "rows": 24022
       }
      },
      "text/html": [
       "<div>\n",
       "<style scoped>\n",
       "    .dataframe tbody tr th:only-of-type {\n",
       "        vertical-align: middle;\n",
       "    }\n",
       "\n",
       "    .dataframe tbody tr th {\n",
       "        vertical-align: top;\n",
       "    }\n",
       "\n",
       "    .dataframe thead th {\n",
       "        text-align: right;\n",
       "    }\n",
       "</style>\n",
       "<table border=\"1\" class=\"dataframe\">\n",
       "  <thead>\n",
       "    <tr style=\"text-align: right;\">\n",
       "      <th></th>\n",
       "      <th>id</th>\n",
       "      <th>label</th>\n",
       "      <th>type</th>\n",
       "      <th>author</th>\n",
       "    </tr>\n",
       "  </thead>\n",
       "  <tbody>\n",
       "    <tr>\n",
       "      <th>0</th>\n",
       "      <td>0</td>\n",
       "      <td>Almost anyone can be an author the business is...</td>\n",
       "      <td>quote</td>\n",
       "      <td>A. A. Milne</td>\n",
       "    </tr>\n",
       "    <tr>\n",
       "      <th>1</th>\n",
       "      <td>1</td>\n",
       "      <td>If you live to be a hundred, I want to live to...</td>\n",
       "      <td>quote</td>\n",
       "      <td>A. A. Milne</td>\n",
       "    </tr>\n",
       "    <tr>\n",
       "      <th>2</th>\n",
       "      <td>2</td>\n",
       "      <td>Golf is so popular simply because it is the be...</td>\n",
       "      <td>quote</td>\n",
       "      <td>A. A. Milne</td>\n",
       "    </tr>\n",
       "    <tr>\n",
       "      <th>3</th>\n",
       "      <td>3</td>\n",
       "      <td>To the uneducated, an A is just three sticks.</td>\n",
       "      <td>quote</td>\n",
       "      <td>A. A. Milne</td>\n",
       "    </tr>\n",
       "    <tr>\n",
       "      <th>4</th>\n",
       "      <td>4</td>\n",
       "      <td>Promise me you'll always remember: You're brav...</td>\n",
       "      <td>quote</td>\n",
       "      <td>A. A. Milne</td>\n",
       "    </tr>\n",
       "    <tr>\n",
       "      <th>...</th>\n",
       "      <td>...</td>\n",
       "      <td>...</td>\n",
       "      <td>...</td>\n",
       "      <td>...</td>\n",
       "    </tr>\n",
       "    <tr>\n",
       "      <th>24017</th>\n",
       "      <td>24017</td>\n",
       "      <td>Getting divorced just because you don't love a...</td>\n",
       "      <td>quote</td>\n",
       "      <td>Zsa Zsa Gabor</td>\n",
       "    </tr>\n",
       "    <tr>\n",
       "      <th>24018</th>\n",
       "      <td>24018</td>\n",
       "      <td>To be loved is a strength. To love is a weakness.</td>\n",
       "      <td>quote</td>\n",
       "      <td>Zsa Zsa Gabor</td>\n",
       "    </tr>\n",
       "    <tr>\n",
       "      <th>24019</th>\n",
       "      <td>24019</td>\n",
       "      <td>He taught me housekeeping when I divorce I kee...</td>\n",
       "      <td>quote</td>\n",
       "      <td>Zsa Zsa Gabor</td>\n",
       "    </tr>\n",
       "    <tr>\n",
       "      <th>24020</th>\n",
       "      <td>24020</td>\n",
       "      <td>A man in love is incomplete until he has marri...</td>\n",
       "      <td>quote</td>\n",
       "      <td>Zsa Zsa Gabor</td>\n",
       "    </tr>\n",
       "    <tr>\n",
       "      <th>24021</th>\n",
       "      <td>24021</td>\n",
       "      <td>One of my theories is that men love with their...</td>\n",
       "      <td>quote</td>\n",
       "      <td>Zsa Zsa Gabor</td>\n",
       "    </tr>\n",
       "  </tbody>\n",
       "</table>\n",
       "<p>24022 rows × 4 columns</p>\n",
       "</div>"
      ],
      "text/plain": [
       "          id  ...         author\n",
       "0          0  ...    A. A. Milne\n",
       "1          1  ...    A. A. Milne\n",
       "2          2  ...    A. A. Milne\n",
       "3          3  ...    A. A. Milne\n",
       "4          4  ...    A. A. Milne\n",
       "...      ...  ...            ...\n",
       "24017  24017  ...  Zsa Zsa Gabor\n",
       "24018  24018  ...  Zsa Zsa Gabor\n",
       "24019  24019  ...  Zsa Zsa Gabor\n",
       "24020  24020  ...  Zsa Zsa Gabor\n",
       "24021  24021  ...  Zsa Zsa Gabor\n",
       "\n",
       "[24022 rows x 4 columns]"
      ]
     },
     "execution_count": 11,
     "metadata": {},
     "output_type": "execute_result"
    }
   ],
   "source": [
    "nodes.rename(columns={\"node\": \"id\"})"
   ]
  },
  {
   "cell_type": "code",
   "execution_count": null,
   "id": "d2d1f54f",
   "metadata": {},
   "outputs": [
    {
     "data": {
      "application/vnd.jupyter.widget-view+json": {
       "model_id": "459c514e6afd47f397c1ac47d5d250ea",
       "version_major": 2,
       "version_minor": 1
      },
      "text/plain": [
       "Cosmograph(background_color=None, components_display_state_mode=None, focused_point_ring_color=None, hovered_p…"
      ]
     },
     "execution_count": 45,
     "metadata": {},
     "output_type": "execute_result"
    }
   ],
   "source": [
    "from cosmograph import Cosmograph\n",
    "\n",
    "cosmo = Cosmograph(\n",
    "    points=nodes,\n",
    "    links=edges,\n",
    "    point_id_by=\"node_id\",\n",
    "    point_size_by=\"degree_centrality\",\n",
    "    link_source_by=\"source\",\n",
    "    link_target_by=\"target\",\n",
    "    point_color_by=\"community\",\n",
    "    point_cluster_by=\"community\",\n",
    "    point_label_by=\"label\",\n",
    "    show_cluster_labels=True,\n",
    "    point_include_columns=[\"author\", \"degree_centrality\", \"community\"],\n",
    ")\n",
    "cosmo"
   ]
  },
  {
   "cell_type": "markdown",
   "id": "4e76dabe",
   "metadata": {},
   "source": [
    "# Building the network\n",
    "Semnet makes constructing an embedding-based network simple. Just bring your own embeddings and pass them to the `.fit()` method."
   ]
  },
  {
   "cell_type": "code",
   "execution_count": null,
   "id": "53cfd944",
   "metadata": {},
   "outputs": [],
   "source": [
    "from semnet import SemanticNetwork\n",
    "from sentence_transformers import SentenceTransformer\n",
    "\n",
    "docs = df[\"quote\"].tolist()\n",
    "\n",
    "embedding_model = SentenceTransformer(\"BAAI/bge-base-en-v1.5\")\n",
    "embeddings = embedding_model.encode(docs, show_progress_bar=True)"
   ]
  },
  {
   "cell_type": "markdown",
   "id": "4f8c65b7",
   "metadata": {},
   "source": [
    "## API\n",
    "We pass the docs as the labels, and also pass the author as additional data to each node in the network. Passing a single item using `.to_dict()` will record the key as `value`."
   ]
  },
  {
   "cell_type": "code",
   "execution_count": null,
   "id": "fc925729",
   "metadata": {},
   "outputs": [],
   "source": [
    "# Larger values for thresh will generate sparser networks with fewer edges and more outliers\n",
    "# I've found good values to be between 1.5 and 5. 3 will get a strong core, but with a large number of outliers\n",
    "sem = SemanticNetwork(thresh=0.3, n_trees=100)\n",
    "sem.fit(embeddings=embeddings, labels=docs, node_data=df[\"author\"].to_dict())"
   ]
  },
  {
   "cell_type": "markdown",
   "id": "29e0bc54",
   "metadata": {},
   "source": [
    "## Under the hood\n",
    "Semnet uses [annoy](https://github.com/spotify/annoy) to perform rapid pair-wise distance calculations across all embeddings in the dataset.\n",
    "\n",
    "The result of this process is an edgelist, which can be used to construct an undirected graph, weighted by the semantic similarity between each record."
   ]
  },
  {
   "cell_type": "markdown",
   "id": "17aa2261",
   "metadata": {},
   "source": [
    "# Network analysis of text\n",
    "With our data loaded into a `networkx` object, we now have access to hundreds of graph-based algorithms that can be used to explore, analyse and clean our data.\n",
    "\n",
    "Use cases include:\n",
    "- Outlier detection\n",
    "- Enriching network with non-semantic data\n",
    "- Clustering\n",
    "- Visualisation\n",
    "- Semantic pathways\n",
    "- Deduplication and more!"
   ]
  },
  {
   "cell_type": "markdown",
   "id": "8ed1f237",
   "metadata": {},
   "source": [
    "## Outlier detection\n",
    "Any node that has no edges, has no semantic relationship with any other item in the dataset at the threshold set during training. These records may be considered outliers.\n",
    "\n",
    "We can use networkx to find all connected components in the graph. The demo threshold is pretty high so we'll see a fair few outliers."
   ]
  },
  {
   "cell_type": "code",
   "execution_count": null,
   "id": "a3742af9",
   "metadata": {},
   "outputs": [],
   "source": [
    "import networkx as nx\n",
    "import random\n",
    "\n",
    "G = sem.graph_.copy()\n",
    "\n",
    "# Returns generator of sets of connected components\n",
    "connected_components = list(nx.connected_components(G))\n",
    "unconnected_components = [\n",
    "    list(c)[0] for c in connected_components if len(c) == 1\n",
    "]\n",
    "\n",
    "print(\n",
    "    f\"Number of connected components (groups of 2 or more nodes): {len(connected_components)}\"\n",
    ")\n",
    "print(\n",
    "    f\"Number of unconnected components (outliers): {len(unconnected_components)}\"\n",
    ")"
   ]
  },
  {
   "cell_type": "markdown",
   "id": "83fd6f41",
   "metadata": {},
   "source": []
  },
  {
   "cell_type": "markdown",
   "id": "d61ccf86",
   "metadata": {},
   "source": [
    "Outliers, in this context represent topics or phrasing that is somewhat unique within the dataset. Exploring the outliers, we can see references to Mexico, Pearl Habour, puppies and such."
   ]
  },
  {
   "cell_type": "code",
   "execution_count": null,
   "id": "a4aff0e9",
   "metadata": {},
   "outputs": [],
   "source": [
    "def sample_nodes(subgraph, n=5, seed=12345):\n",
    "    random.seed(seed)\n",
    "    node_candidates = list(subgraph.nodes(data=True))\n",
    "    if len(node_candidates) < n:\n",
    "        n = len(node_candidates)\n",
    "    sample_nodes = random.sample(node_candidates, n)\n",
    "    for idx, data in sample_nodes:\n",
    "        print(f\"{data['name']}, {data['value']}\")\n",
    "\n",
    "\n",
    "largest_cc = max(nx.connected_components(G), key=len)\n",
    "large_subgraph = G.subgraph(largest_cc)\n",
    "\n",
    "print(\"Largest\")\n",
    "sample_nodes(large_subgraph, n=10)\n",
    "print()\n",
    "print(\"Outliers\")\n",
    "sample_nodes(G.subgraph(unconnected_components), n=10)"
   ]
  },
  {
   "cell_type": "markdown",
   "id": "bca0ca16",
   "metadata": {},
   "source": [
    "How we treat outliers will depend on our use case. As a demonstration, I'm keen at looking at the core of the dataset, getting themes, vibes and relationships rather than trying to classify every node. I drop the outliers and focus on the centre."
   ]
  },
  {
   "cell_type": "code",
   "execution_count": null,
   "id": "3ffabc52",
   "metadata": {},
   "outputs": [],
   "source": [
    "print(len(G.nodes()), len(unconnected_components))\n",
    "non_ouliers = [n for n in G.nodes() if n not in unconnected_components]\n",
    "G = G.subgraph(non_ouliers)\n",
    "print(f\"Graph after removing outliers has {len(G.nodes())} nodes\")"
   ]
  },
  {
   "cell_type": "markdown",
   "id": "b8ed2d65",
   "metadata": {},
   "source": [
    "# Clustering"
   ]
  },
  {
   "cell_type": "markdown",
   "id": "0b99f302",
   "metadata": {},
   "source": [
    "Whilst excellent methods and libraries (e.g., BerTopic) exist for topic modelling on embeddings, the graph structure allows us to use a _relationship_-based approach"
   ]
  },
  {
   "cell_type": "code",
   "execution_count": null,
   "id": "c8e86743",
   "metadata": {},
   "outputs": [],
   "source": [
    "communities = nx.community.louvain_communities(G, seed=123, resolution=1.5)\n",
    "for i, comm in enumerate(sorted(communities, key=len, reverse=True)):\n",
    "    print(f\"Community {i+1}, size: {len(comm)}\")\n",
    "    subgraph = G.subgraph(comm)\n",
    "    sample_nodes(subgraph, n=5)\n",
    "    print()\n",
    "\n",
    "    # Label nodes with their community, I put small communities into -1\n",
    "    for node in comm:\n",
    "        if len(comm) > 5:\n",
    "            G.nodes[node][\"community\"] = i + 1\n",
    "        else:\n",
    "            G.nodes[node][\"community\"] = -1"
   ]
  },
  {
   "cell_type": "code",
   "execution_count": null,
   "id": "7b7ea75e",
   "metadata": {},
   "outputs": [],
   "source": [
    "from cosmograph import cosmo\n",
    "\n",
    "# Use the new to_pandas method to export the graph\n",
    "nodes, edges = sem.to_pandas(G)\n",
    "\n",
    "# For cosmograph, we need to prepare the data\n",
    "widget = cosmo(\n",
    "    points=nodes,\n",
    "    links=edges,\n",
    "    point_id_by=\"id\",  # Index column\n",
    "    link_source_by=\"source\",\n",
    "    link_target_by=\"target\",\n",
    "    link_strength_by=\"similarity\",\n",
    "    point_color_by=\"community\",  # Color by community\n",
    "    point_cluster_by=\"community\",\n",
    "    show_hovered_point_label=True,\n",
    "    select_point_on_click=True,\n",
    "    point_include_columns=[\"value\"],  # Include author info\n",
    "    point_label_by=\"name\",\n",
    ")\n",
    "widget"
   ]
  },
  {
   "cell_type": "code",
   "execution_count": null,
   "id": "0efccefb",
   "metadata": {},
   "outputs": [],
   "source": [
    "# Shortest path between two nodes\n",
    "import random\n",
    "\n",
    "\n",
    "for n in range(10):\n",
    "    print(\"\\n\" + \"-\" * 50 + \"\\n\")\n",
    "    random.seed(n)\n",
    "    node_a, node_b = random.sample(list(large_subgraph.nodes(data=True)), 2)\n",
    "\n",
    "    all_path = nx.all_simple_paths(\n",
    "        large_subgraph,\n",
    "        source=node_a[0],\n",
    "        target=node_b[0],\n",
    "        cutoff=20,\n",
    "    )\n",
    "    # Find the longest path\n",
    "    sorted_paths = sorted(all_path, key=len, reverse=True)\n",
    "    long_path = sorted_paths[0] if len(sorted_paths) > 0 else None\n",
    "\n",
    "    if long_path is not None:\n",
    "        print(\n",
    "            f\"Long path between:\\n- {node_a[1]['name']}\\n- {node_b[1]['name']}\\n\"\n",
    "        )\n",
    "        for idx in long_path:\n",
    "            print(f\"- {large_subgraph.nodes[idx]['name']}\")"
   ]
  },
  {
   "cell_type": "code",
   "execution_count": null,
   "id": "d5ba31e7",
   "metadata": {},
   "outputs": [],
   "source": [
    "# Clustering"
   ]
  },
  {
   "cell_type": "code",
   "execution_count": null,
   "id": "8a7fda62",
   "metadata": {},
   "outputs": [],
   "source": [
    "communities = []\n",
    "for idx, community in points.groupby(\"community\"):\n",
    "    top_nodes = community.nlargest(5, \"degree_centrality\")\n",
    "    communities.append(\n",
    "        {\n",
    "            \"community_id\": idx,\n",
    "            \"representative_docs\": top_nodes[\"name\"].values,\n",
    "            \"size\": len(community),\n",
    "        }\n",
    "    )\n",
    "\n",
    "for community in sorted(communities, key=lambda x: x[\"size\"], reverse=True):\n",
    "    print(f\"Community {community['community_id']} (size={community['size']}):\")\n",
    "    for doc in community[\"representative_docs\"]:\n",
    "        print(f\" - {doc}\")\n",
    "    print()"
   ]
  },
  {
   "cell_type": "code",
   "execution_count": null,
   "id": "efcdfd84",
   "metadata": {},
   "outputs": [],
   "source": [
    "widget"
   ]
  },
  {
   "cell_type": "code",
   "execution_count": null,
   "id": "b3ef3c92",
   "metadata": {},
   "outputs": [],
   "source": []
  },
  {
   "cell_type": "code",
   "execution_count": null,
   "id": "3978df84",
   "metadata": {},
   "outputs": [],
   "source": [
    "# Shortest path between two nodes\n",
    "import random\n",
    "\n",
    "\n",
    "def find_shortest_path(graph, source_idx, target_idx):\n",
    "    try:\n",
    "        path = nx.shortest_path(graph, source=source_idx, target=target_idx)\n",
    "        return path\n",
    "    except nx.NetworkXNoPath:\n",
    "        return None\n",
    "\n",
    "\n",
    "largest_component = max(connected_components, key=len)\n",
    "largest_subgraph = reduced_graph.subgraph(largest_component)\n",
    "\n",
    "node_a, node_b = random.sample(list(largest_subgraph.nodes(data=True)), 2)\n",
    "path = find_shortest_path(\n",
    "    largest_subgraph, source_idx=node_a[0], target_idx=node_b[0]\n",
    ")\n",
    "for idx in path:\n",
    "    print(f\"- {largest_subgraph.nodes[idx]['name']}\")"
   ]
  }
 ],
 "metadata": {
  "kernelspec": {
   "display_name": ".venv (3.13.7)",
   "language": "python",
   "name": "python3"
  },
  "language_info": {
   "codemirror_mode": {
    "name": "ipython",
    "version": 3
   },
   "file_extension": ".py",
   "mimetype": "text/x-python",
   "name": "python",
   "nbconvert_exporter": "python",
   "pygments_lexer": "ipython3",
   "version": "3.13.7"
  }
 },
 "nbformat": 4,
 "nbformat_minor": 5
}
