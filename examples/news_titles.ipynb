{
 "cells": [
  {
   "cell_type": "markdown",
   "id": "45795f41",
   "metadata": {},
   "source": [
    "# Load data\n",
    "First we load the data, I've pulled a [generic quotations dataset](https://huggingface.co/datasets/m-ric/english_historical_quotes/) from huggingface, it's downloaded to the repo for convenience."
   ]
  },
  {
   "cell_type": "code",
   "execution_count": 2,
   "id": "4edd86d9",
   "metadata": {},
   "outputs": [
    {
     "data": {
      "application/vnd.microsoft.datawrangler.viewer.v0+json": {
       "columns": [
        {
         "name": "index",
         "rawType": "int64",
         "type": "integer"
        },
        {
         "name": "quote",
         "rawType": "object",
         "type": "string"
        },
        {
         "name": "author",
         "rawType": "object",
         "type": "string"
        }
       ],
       "ref": "b874199c-0aee-42d2-9be5-b152d63f102e",
       "rows": [
        [
         "0",
         "Almost anyone can be an author the business is to collect money and fame from this state of being.",
         "A. A. Milne"
        ],
        [
         "1",
         "If you live to be a hundred, I want to live to be a hundred minus one day so I never have to live without you.",
         "A. A. Milne"
        ],
        [
         "2",
         "Golf is so popular simply because it is the best game in the world at which to be bad.",
         "A. A. Milne"
        ],
        [
         "3",
         "To the uneducated, an A is just three sticks.",
         "A. A. Milne"
        ],
        [
         "4",
         "Promise me you'll always remember: You're braver than you believe, and stronger than you seem, and smarter than you think.",
         "A. A. Milne"
        ]
       ],
       "shape": {
        "columns": 2,
        "rows": 5
       }
      },
      "text/html": [
       "<div>\n",
       "<style scoped>\n",
       "    .dataframe tbody tr th:only-of-type {\n",
       "        vertical-align: middle;\n",
       "    }\n",
       "\n",
       "    .dataframe tbody tr th {\n",
       "        vertical-align: top;\n",
       "    }\n",
       "\n",
       "    .dataframe thead th {\n",
       "        text-align: right;\n",
       "    }\n",
       "</style>\n",
       "<table border=\"1\" class=\"dataframe\">\n",
       "  <thead>\n",
       "    <tr style=\"text-align: right;\">\n",
       "      <th></th>\n",
       "      <th>quote</th>\n",
       "      <th>author</th>\n",
       "    </tr>\n",
       "  </thead>\n",
       "  <tbody>\n",
       "    <tr>\n",
       "      <th>0</th>\n",
       "      <td>Almost anyone can be an author the business is...</td>\n",
       "      <td>A. A. Milne</td>\n",
       "    </tr>\n",
       "    <tr>\n",
       "      <th>1</th>\n",
       "      <td>If you live to be a hundred, I want to live to...</td>\n",
       "      <td>A. A. Milne</td>\n",
       "    </tr>\n",
       "    <tr>\n",
       "      <th>2</th>\n",
       "      <td>Golf is so popular simply because it is the be...</td>\n",
       "      <td>A. A. Milne</td>\n",
       "    </tr>\n",
       "    <tr>\n",
       "      <th>3</th>\n",
       "      <td>To the uneducated, an A is just three sticks.</td>\n",
       "      <td>A. A. Milne</td>\n",
       "    </tr>\n",
       "    <tr>\n",
       "      <th>4</th>\n",
       "      <td>Promise me you'll always remember: You're brav...</td>\n",
       "      <td>A. A. Milne</td>\n",
       "    </tr>\n",
       "  </tbody>\n",
       "</table>\n",
       "</div>"
      ],
      "text/plain": [
       "                                               quote       author\n",
       "0  Almost anyone can be an author the business is...  A. A. Milne\n",
       "1  If you live to be a hundred, I want to live to...  A. A. Milne\n",
       "2  Golf is so popular simply because it is the be...  A. A. Milne\n",
       "3      To the uneducated, an A is just three sticks.  A. A. Milne\n",
       "4  Promise me you'll always remember: You're brav...  A. A. Milne"
      ]
     },
     "execution_count": 2,
     "metadata": {},
     "output_type": "execute_result"
    }
   ],
   "source": [
    "import json\n",
    "import pandas as pd\n",
    "\n",
    "# https://huggingface.co/datasets/m-ric/english_historical_quotes/blob/main/english_historical_quotes.json\n",
    "\n",
    "# Load in from json\n",
    "with open(\"data/english_historical_quotes.json\", \"r\") as f:\n",
    "    data = json.load(f)\n",
    "\n",
    "# I drop the category file as it's not required for the demo\n",
    "df = pd.DataFrame(data).drop(columns=[\"category\"])\n",
    "\n",
    "df.head()"
   ]
  },
  {
   "cell_type": "markdown",
   "id": "4e76dabe",
   "metadata": {},
   "source": [
    "# Building network\n",
    "Building an embedding-based network is simple. Bring your own embeddings and pass to the fit method.\n",
    "\n",
    "Docs are a required argument, "
   ]
  },
  {
   "cell_type": "code",
   "execution_count": null,
   "id": "53cfd944",
   "metadata": {},
   "outputs": [],
   "source": [
    "from semnet import SemanticNetwork\n",
    "from sentence_transformers import SentenceTransformer\n",
    "\n",
    "docs = df[\"quote\"].tolist()\n",
    "\n",
    "embedding_model = SentenceTransformer(\"BAAI/bge-base-en-v1.5\")\n",
    "embeddings = embedding_model.encode(docs, show_progress_bar=True)\n",
    "\n",
    "sem = SemanticNetwork(thresh=0.25)\n",
    "sem.fit(embeddings=embeddings, labels=docs)"
   ]
  },
  {
   "cell_type": "code",
   "execution_count": null,
   "id": "fc925729",
   "metadata": {},
   "outputs": [],
   "source": []
  },
  {
   "cell_type": "code",
   "execution_count": null,
   "id": "0dfb219f",
   "metadata": {},
   "outputs": [],
   "source": [
    "import networkx as nx\n",
    "\n",
    "graph = sn.graph_\n",
    "for node in graph.nodes:\n",
    "    record = df.iloc[node]\n",
    "    # Add data to each node\n",
    "    graph.nodes[node][\"author\"] = record[\"author\"]"
   ]
  },
  {
   "cell_type": "code",
   "execution_count": null,
   "id": "83760230",
   "metadata": {},
   "outputs": [],
   "source": [
    "from cosmograph import cosmo\n",
    "import pandas as pd\n",
    "\n",
    "points = []\n",
    "for idx, record in graph.nodes(data=True):\n",
    "    record.update({\"idx\": idx})\n",
    "    points.append(record)\n",
    "\n",
    "points = pd.DataFrame(points)\n",
    "\n",
    "links = []\n",
    "for source, target, edge_data in graph.edges(data=True):\n",
    "    record = {\n",
    "        \"source\": source,\n",
    "        \"target\": target,\n",
    "    }\n",
    "    record.update(edge_data)\n",
    "    links.append(record)\n",
    "\n",
    "links = pd.DataFrame(links)"
   ]
  },
  {
   "cell_type": "code",
   "execution_count": null,
   "id": "7b7ea75e",
   "metadata": {},
   "outputs": [],
   "source": [
    "widget = cosmo(\n",
    "    points=points,\n",
    "    links=links,\n",
    "    point_id_by=\"idx\",\n",
    "    link_source_by=\"source\",\n",
    "    link_target_by=\"target\",\n",
    "    link_strength_by=\"similarity\",\n",
    "    select_point_on_click=True,\n",
    "    point_include_columns=[\"author\"],\n",
    "    point_label_by=\"name\",\n",
    ")\n",
    "widget"
   ]
  },
  {
   "cell_type": "code",
   "execution_count": null,
   "id": "8a7fda62",
   "metadata": {},
   "outputs": [],
   "source": [
    "communities = []\n",
    "for idx, community in points.groupby(\"community\"):\n",
    "    top_nodes = community.nlargest(5, \"degree_centrality\")\n",
    "    communities.append(\n",
    "        {\n",
    "            \"community_id\": idx,\n",
    "            \"representative_docs\": top_nodes[\"name\"].values,\n",
    "            \"size\": len(community),\n",
    "        }\n",
    "    )\n",
    "\n",
    "for community in sorted(communities, key=lambda x: x[\"size\"], reverse=True):\n",
    "    print(f\"Community {community['community_id']} (size={community['size']}):\")\n",
    "    for doc in community[\"representative_docs\"]:\n",
    "        print(f\" - {doc}\")\n",
    "    print()"
   ]
  },
  {
   "cell_type": "code",
   "execution_count": null,
   "id": "efcdfd84",
   "metadata": {},
   "outputs": [],
   "source": [
    "widget"
   ]
  },
  {
   "cell_type": "code",
   "execution_count": null,
   "id": "b3ef3c92",
   "metadata": {},
   "outputs": [],
   "source": []
  },
  {
   "cell_type": "code",
   "execution_count": null,
   "id": "3978df84",
   "metadata": {},
   "outputs": [],
   "source": [
    "# Shortest path between two nodes\n",
    "import random\n",
    "\n",
    "\n",
    "def find_shortest_path(graph, source_idx, target_idx):\n",
    "    try:\n",
    "        path = nx.shortest_path(graph, source=source_idx, target=target_idx)\n",
    "        return path\n",
    "    except nx.NetworkXNoPath:\n",
    "        return None\n",
    "\n",
    "\n",
    "largest_component = max(connected_components, key=len)\n",
    "largest_subgraph = reduced_graph.subgraph(largest_component)\n",
    "\n",
    "node_a, node_b = random.sample(list(largest_subgraph.nodes(data=True)), 2)\n",
    "path = find_shortest_path(largest_subgraph, source_idx=node_a[0], target_idx=node_b[0])\n",
    "for idx in path:\n",
    "    print(f\"- {largest_subgraph.nodes[idx]['name']}\")"
   ]
  }
 ],
 "metadata": {
  "kernelspec": {
   "display_name": ".venv (3.13.7)",
   "language": "python",
   "name": "python3"
  },
  "language_info": {
   "codemirror_mode": {
    "name": "ipython",
    "version": 3
   },
   "file_extension": ".py",
   "mimetype": "text/x-python",
   "name": "python",
   "nbconvert_exporter": "python",
   "pygments_lexer": "ipython3",
   "version": "3.13.7"
  }
 },
 "nbformat": 4,
 "nbformat_minor": 5
}
