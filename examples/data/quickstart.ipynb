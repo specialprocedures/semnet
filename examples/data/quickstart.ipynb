{
 "cells": [
  {
   "cell_type": "code",
   "execution_count": 10,
   "id": "4ca147fd",
   "metadata": {},
   "outputs": [
    {
     "data": {
      "application/vnd.jupyter.widget-view+json": {
       "model_id": "6c831912d16b4aeaafd4b46e2da6ea7d",
       "version_major": 2,
       "version_minor": 0
      },
      "text/plain": [
       "Adding embeddings to index:   0%|          | 0/5 [00:00<?, ?it/s]"
      ]
     },
     "metadata": {},
     "output_type": "display_data"
    },
    {
     "data": {
      "application/vnd.jupyter.widget-view+json": {
       "model_id": "e7227fcfdd1246eeb6bd9c4d61ff9a50",
       "version_major": 2,
       "version_minor": 0
      },
      "text/plain": [
       "Finding similarities:   0%|          | 0/5 [00:00<?, ?it/s]"
      ]
     },
     "metadata": {},
     "output_type": "display_data"
    },
    {
     "name": "stdout",
     "output_type": "stream",
     "text": [
      "Nodes: 5\n",
      "Edges: 2\n",
      "Connected components: 3\n",
      "Similar documents: ['The cat sat on the mat', 'A cat was sitting on a mat']\n",
      "Similar documents: ['I love Python', 'Python is a great programming language']\n",
      "Document: The cat sat on the mat, Degree Centrality: 0.2500\n",
      "Document: A cat was sitting on a mat, Degree Centrality: 0.2500\n",
      "Document: The dog ran in the park, Degree Centrality: 0.0000\n",
      "Document: I love Python, Degree Centrality: 0.2500\n",
      "Document: Python is a great programming language, Degree Centrality: 0.2500\n"
     ]
    }
   ],
   "source": [
    "from semnet import SemanticNetwork\n",
    "from sentence_transformers import SentenceTransformer\n",
    "import networkx as nx\n",
    "\n",
    "# Your documents\n",
    "docs = [\n",
    "    \"The cat sat on the mat\",\n",
    "    \"A cat was sitting on a mat\",\n",
    "    \"The dog ran in the park\",\n",
    "    \"I love Python\",\n",
    "    \"Python is a great programming language\",\n",
    "]\n",
    "\n",
    "# Generate embeddings (use any embedding provider)\n",
    "embedding_model = SentenceTransformer(\"BAAI/bge-base-en-v1.5\")\n",
    "embeddings = embedding_model.encode(docs)\n",
    "\n",
    "# Create and configure semantic network\n",
    "sem = SemanticNetwork(thresh=0.3, verbose=True)  # Larger values give sparser networks\n",
    "\n",
    "# Build the semantic graph from your embeddings\n",
    "G = sem.fit_transform(embeddings, labels=docs)\n",
    "\n",
    "# Analyze the graph\n",
    "print(f\"Nodes: {G.number_of_nodes()}\")\n",
    "print(f\"Edges: {G.number_of_edges()}\")\n",
    "print(f\"Connected components: {nx.number_connected_components(G)}\")\n",
    "\n",
    "# Find similar document groups\n",
    "for component in nx.connected_components(G):\n",
    "    if len(component) > 1:\n",
    "        similar_docs = [G.nodes[i][\"label\"] for i in component]\n",
    "        print(f\"Similar documents: {similar_docs}\")\n",
    "\n",
    "# Calculate centrality measures,\n",
    "# Degree centrality not that interesting in the example, but shown here for demonstration\n",
    "centrality = nx.degree_centrality(G)\n",
    "for node, cent_value in centrality.items():\n",
    "    print(f\"Document: {G.nodes[node]['label']}, Degree Centrality: {cent_value:.4f}\")\n",
    "    G.nodes[node][\"degree_centrality\"] = cent_value\n",
    "\n",
    "# Export to pandas\n",
    "nodes_df, edges_df = sem.to_pandas(G)"
   ]
  },
  {
   "cell_type": "code",
   "execution_count": 8,
   "id": "e98e3788",
   "metadata": {},
   "outputs": [
    {
     "data": {
      "application/vnd.microsoft.datawrangler.viewer.v0+json": {
       "columns": [
        {
         "name": "index",
         "rawType": "int64",
         "type": "integer"
        },
        {
         "name": "label",
         "rawType": "object",
         "type": "string"
        },
        {
         "name": "id",
         "rawType": "int64",
         "type": "integer"
        },
        {
         "name": "betweenness_centrality",
         "rawType": "float64",
         "type": "float"
        }
       ],
       "ref": "178f4ede-cd84-416f-8b53-c8c549c821b0",
       "rows": [
        [
         "0",
         "The cat sat on the mat",
         "0",
         "0.0"
        ],
        [
         "1",
         "A cat was sitting on a mat",
         "1",
         "0.0"
        ],
        [
         "2",
         "The dog ran in the park",
         "2",
         "0.0"
        ],
        [
         "3",
         "Python is great for ML",
         "3",
         "0.0"
        ],
        [
         "4",
         "Machine learning with Python",
         "4",
         "0.0"
        ]
       ],
       "shape": {
        "columns": 3,
        "rows": 5
       }
      },
      "text/html": [
       "<div>\n",
       "<style scoped>\n",
       "    .dataframe tbody tr th:only-of-type {\n",
       "        vertical-align: middle;\n",
       "    }\n",
       "\n",
       "    .dataframe tbody tr th {\n",
       "        vertical-align: top;\n",
       "    }\n",
       "\n",
       "    .dataframe thead th {\n",
       "        text-align: right;\n",
       "    }\n",
       "</style>\n",
       "<table border=\"1\" class=\"dataframe\">\n",
       "  <thead>\n",
       "    <tr style=\"text-align: right;\">\n",
       "      <th></th>\n",
       "      <th>label</th>\n",
       "      <th>id</th>\n",
       "      <th>betweenness_centrality</th>\n",
       "    </tr>\n",
       "  </thead>\n",
       "  <tbody>\n",
       "    <tr>\n",
       "      <th>0</th>\n",
       "      <td>The cat sat on the mat</td>\n",
       "      <td>0</td>\n",
       "      <td>0.0</td>\n",
       "    </tr>\n",
       "    <tr>\n",
       "      <th>1</th>\n",
       "      <td>A cat was sitting on a mat</td>\n",
       "      <td>1</td>\n",
       "      <td>0.0</td>\n",
       "    </tr>\n",
       "    <tr>\n",
       "      <th>2</th>\n",
       "      <td>The dog ran in the park</td>\n",
       "      <td>2</td>\n",
       "      <td>0.0</td>\n",
       "    </tr>\n",
       "    <tr>\n",
       "      <th>3</th>\n",
       "      <td>Python is great for ML</td>\n",
       "      <td>3</td>\n",
       "      <td>0.0</td>\n",
       "    </tr>\n",
       "    <tr>\n",
       "      <th>4</th>\n",
       "      <td>Machine learning with Python</td>\n",
       "      <td>4</td>\n",
       "      <td>0.0</td>\n",
       "    </tr>\n",
       "  </tbody>\n",
       "</table>\n",
       "</div>"
      ],
      "text/plain": [
       "                          label  id  betweenness_centrality\n",
       "0        The cat sat on the mat   0                     0.0\n",
       "1    A cat was sitting on a mat   1                     0.0\n",
       "2       The dog ran in the park   2                     0.0\n",
       "3        Python is great for ML   3                     0.0\n",
       "4  Machine learning with Python   4                     0.0"
      ]
     },
     "execution_count": 8,
     "metadata": {},
     "output_type": "execute_result"
    }
   ],
   "source": [
    "nodes_df"
   ]
  }
 ],
 "metadata": {
  "kernelspec": {
   "display_name": ".venv (3.13.7)",
   "language": "python",
   "name": "python3"
  },
  "language_info": {
   "codemirror_mode": {
    "name": "ipython",
    "version": 3
   },
   "file_extension": ".py",
   "mimetype": "text/x-python",
   "name": "python",
   "nbconvert_exporter": "python",
   "pygments_lexer": "ipython3",
   "version": "3.13.7"
  }
 },
 "nbformat": 4,
 "nbformat_minor": 5
}
